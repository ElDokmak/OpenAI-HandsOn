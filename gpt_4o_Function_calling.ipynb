{
  "nbformat": 4,
  "nbformat_minor": 0,
  "metadata": {
    "colab": {
      "provenance": []
    },
    "kernelspec": {
      "name": "python3",
      "display_name": "Python 3"
    },
    "language_info": {
      "name": "python"
    }
  },
  "cells": [
    {
      "cell_type": "code",
      "execution_count": 1,
      "metadata": {
        "colab": {
          "base_uri": "https://localhost:8080/"
        },
        "id": "nTDmvhJeJ6sT",
        "outputId": "5ad104a8-f7ee-461b-d84e-1f3eb29c9b18"
      },
      "outputs": [
        {
          "output_type": "stream",
          "name": "stdout",
          "text": [
            "\u001b[2K     \u001b[90m━━━━━━━━━━━━━━━━━━━━━━━━━━━━━━━━━━━━━━━━\u001b[0m \u001b[32m320.6/320.6 kB\u001b[0m \u001b[31m4.9 MB/s\u001b[0m eta \u001b[36m0:00:00\u001b[0m\n",
            "\u001b[2K     \u001b[90m━━━━━━━━━━━━━━━━━━━━━━━━━━━━━━━━━━━━━━━━\u001b[0m \u001b[32m75.6/75.6 kB\u001b[0m \u001b[31m4.3 MB/s\u001b[0m eta \u001b[36m0:00:00\u001b[0m\n",
            "\u001b[2K     \u001b[90m━━━━━━━━━━━━━━━━━━━━━━━━━━━━━━━━━━━━━━━━\u001b[0m \u001b[32m77.9/77.9 kB\u001b[0m \u001b[31m4.3 MB/s\u001b[0m eta \u001b[36m0:00:00\u001b[0m\n",
            "\u001b[2K     \u001b[90m━━━━━━━━━━━━━━━━━━━━━━━━━━━━━━━━━━━━━━━━\u001b[0m \u001b[32m58.3/58.3 kB\u001b[0m \u001b[31m3.8 MB/s\u001b[0m eta \u001b[36m0:00:00\u001b[0m\n",
            "\u001b[?25h"
          ]
        }
      ],
      "source": [
        "!pip install openai --upgrade --quiet"
      ]
    },
    {
      "cell_type": "markdown",
      "source": [
        "### Create JSON with UCL semi-final"
      ],
      "metadata": {
        "id": "mK8qHbblKRKy"
      }
    },
    {
      "cell_type": "code",
      "source": [
        "import json\n",
        "\n",
        "def get_ucl_semi_final_results(team):\n",
        "  \"\"\"Get the results of a given football game\"\"\"\n",
        "  if \"bayern\" in team.lower() or \"real\" in team.lower():\n",
        "    return json.dumps(\n",
        "        {\n",
        "            \"team\": \"Bayern Munich\", \"score\": \"3\", \"stutus\": \"not qualified\",\n",
        "            \"opponent\": \"Real Madrid\", \"opponent_score\": \"4\", \"opponent_stutus\": \"qualified\"\n",
        "        }\n",
        "    )\n",
        "  elif \"paris\" in team.lower() or \"borussia\" in team.lower():\n",
        "    return json.dumps(\n",
        "        {\n",
        "            \"team\": \"Paris Saint German\", \"score\": \"0\", \"stutus\": \"not qualified\",\n",
        "            \"opponent\": \"Borussia Dortmund\", \"opponent_score\": \"2\", \"opponent_stutus\": \"qualified\"\n",
        "        }\n",
        "    )\n",
        "  else:\n",
        "    return json.dumps(\n",
        "        {\n",
        "            \"team\": team,\n",
        "            \"score\": \"Does not exist\",\n",
        "            \"stutus\": \"not qualified\"\n",
        "        }\n",
        "    )"
      ],
      "metadata": {
        "id": "W__ir4mGKHeC"
      },
      "execution_count": 35,
      "outputs": []
    },
    {
      "cell_type": "markdown",
      "source": [
        "### Load the model"
      ],
      "metadata": {
        "id": "TI0wNSicMGV4"
      }
    },
    {
      "cell_type": "code",
      "source": [
        "from openai import OpenAI\n",
        "import os\n",
        "from google.colab import userdata\n",
        "\n",
        "model_name = \"gpt-4o\"\n",
        "\n",
        "client = OpenAI(\n",
        "    api_key = userdata.get(\"OPENAI_API_KEY\")\n",
        ")"
      ],
      "metadata": {
        "id": "ZLlJI3K6L4GW"
      },
      "execution_count": 3,
      "outputs": []
    },
    {
      "cell_type": "code",
      "source": [
        "def function_calling(prompt):\n",
        "  messages = [\n",
        "      {\n",
        "          \"role\": \"system\",\n",
        "          \"content\": \"\"\"You are a function calling LLM that uses the data extracted from the get_ucl_semi_final_results function to answer questions around football game scores.\n",
        "            Include the team and their opponent in your response, also include the status of each team\"\"\"\n",
        "      },\n",
        "      {\n",
        "          \"role\": \"user\",\n",
        "          \"content\": prompt\n",
        "      }\n",
        "  ]\n",
        "\n",
        "  tools = [\n",
        "      {\n",
        "          \"type\": \"function\",\n",
        "          \"function\": {\n",
        "              \"name\": \"get_ucl_semi_final_results\",\n",
        "              \"description\": \"Get the score for a given Football game\",\n",
        "              \"parameters\": {\n",
        "                  \"type\": \"object\",\n",
        "                  \"properties\": {\n",
        "                      \"team\": {\n",
        "                          \"type\": \"string\",\n",
        "                          \"description\": \"The name of the Football team (e.g. 'Bayern Munich')\",\n",
        "                      },\n",
        "                  },\n",
        "              },\n",
        "              \"required\": [\"team\"],\n",
        "          }\n",
        "      }\n",
        "  ]\n",
        "\n",
        "  response = client.chat.completions.create(\n",
        "      model = model_name,\n",
        "      messages = messages,\n",
        "      tools = tools,\n",
        "      tool_choice = 'auto'\n",
        "  )\n",
        "\n",
        "  response_message = response.choices[0].message\n",
        "  tool_calls = response_message.tool_calls\n",
        "\n",
        "  if tool_calls:\n",
        "      available_functions = {\n",
        "          \"get_ucl_semi_final_results\": get_ucl_semi_final_results,\n",
        "      }\n",
        "\n",
        "      messages.append(response_message)\n",
        "\n",
        "      for tool_call in tool_calls:\n",
        "        function_name = tool_call.function.name\n",
        "        function_to_call = available_functions[function_name]\n",
        "        function_args = json.loads(tool_call.function.arguments)\n",
        "\n",
        "        print(f\"Tool call: {tool_call}\")\n",
        "\n",
        "        function_response = function_to_call(\n",
        "            team = function_args.get(\"team\"),\n",
        "        )\n",
        "\n",
        "        messages.append(\n",
        "            {\n",
        "                \"tool_call_id\": tool_call.id,\n",
        "                \"role\": \"tool\",\n",
        "                \"name\": function_name,\n",
        "                \"content\": function_response,\n",
        "            }\n",
        "        )\n",
        "\n",
        "      second_response = client.chat.completions.create(\n",
        "          model = model_name,\n",
        "          messages = messages,\n",
        "      )\n",
        "\n",
        "      return second_response.choices[0].message.content\n",
        "\n",
        "  else:\n",
        "    return response_message"
      ],
      "metadata": {
        "id": "Eesiv0-KMbfJ"
      },
      "execution_count": 21,
      "outputs": []
    },
    {
      "cell_type": "code",
      "source": [
        "prompt = \"What was the result Bayern Munich game?\"\n",
        "print(function_calling(prompt))"
      ],
      "metadata": {
        "colab": {
          "base_uri": "https://localhost:8080/"
        },
        "id": "e_5nI2NYPoGY",
        "outputId": "be82110c-695e-4f37-b724-63659d3d3eca"
      },
      "execution_count": 30,
      "outputs": [
        {
          "output_type": "stream",
          "name": "stdout",
          "text": [
            "Tool call: ChatCompletionMessageToolCall(id='call_z4T1HcEJCpfyqtohRYNg61J4', function=Function(arguments='{\"team\":\"Bayern Munich\"}', name='get_ucl_semi_final_results'), type='function')\n",
            "Bayern Munich played against Real Madrid and the result was 3-4. Bayern Munich did not qualify, while Real Madrid qualified.\n"
          ]
        }
      ]
    },
    {
      "cell_type": "code",
      "source": [
        "prompt = \"What was the result Borussia Dortmund game?\"\n",
        "print(function_calling(prompt))"
      ],
      "metadata": {
        "colab": {
          "base_uri": "https://localhost:8080/"
        },
        "id": "-uZPu8bcR7hV",
        "outputId": "f53e0398-ddf4-493c-ac3f-67a475bbd27c"
      },
      "execution_count": 33,
      "outputs": [
        {
          "output_type": "stream",
          "name": "stdout",
          "text": [
            "Tool call: ChatCompletionMessageToolCall(id='call_kg4TfAWrn0yjtwUXM6R2EuvM', function=Function(arguments='{\"team\":\"Borussia Dortmund\"}', name='get_ucl_semi_final_results'), type='function')\n",
            "Borussia Dortmund played against Paris Saint Germain and won with a score of 2-0. Borussia Dortmund qualified for the next round, while Paris Saint Germain did not qualify.\n"
          ]
        }
      ]
    },
    {
      "cell_type": "code",
      "source": [
        "prompt = \"What was the result Barcelona game?\"\n",
        "print(function_calling(prompt))"
      ],
      "metadata": {
        "colab": {
          "base_uri": "https://localhost:8080/"
        },
        "id": "wwTu0bbgSQOy",
        "outputId": "bd2131cd-6735-4ce0-a0f5-e7075b7f8638"
      },
      "execution_count": 36,
      "outputs": [
        {
          "output_type": "stream",
          "name": "stdout",
          "text": [
            "Tool call: ChatCompletionMessageToolCall(id='call_zGwbQUhVGYrriFY4MTiiUiCW', function=Function(arguments='{\"team\":\"Barcelona\"}', name='get_ucl_semi_final_results'), type='function')\n",
            "Barcelona did not qualify for the UEFA Champions League semi-finals and therefore does not have any game results at this stage.\n"
          ]
        }
      ]
    },
    {
      "cell_type": "code",
      "source": [
        "prompt = \"What was the result Arsenal game?\"\n",
        "print(function_calling(prompt))"
      ],
      "metadata": {
        "colab": {
          "base_uri": "https://localhost:8080/"
        },
        "id": "dx9mN6jYSiLj",
        "outputId": "2f914ce9-4a82-49fe-9794-309564cd84aa"
      },
      "execution_count": 37,
      "outputs": [
        {
          "output_type": "stream",
          "name": "stdout",
          "text": [
            "Tool call: ChatCompletionMessageToolCall(id='call_eJZzSyfjXtaT6mrGRqPaSxFq', function=Function(arguments='{\\n  \"team\": \"Arsenal\"\\n}', name='get_ucl_semi_final_results'), type='function')\n",
            "Arsenal did not qualify for the semi-finals, so there is no result for an Arsenal game.\n"
          ]
        }
      ]
    },
    {
      "cell_type": "code",
      "source": [],
      "metadata": {
        "id": "QVQ_6LCRUWu0"
      },
      "execution_count": null,
      "outputs": []
    }
  ]
}