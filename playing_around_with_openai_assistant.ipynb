{
  "nbformat": 4,
  "nbformat_minor": 0,
  "metadata": {
    "colab": {
      "provenance": []
    },
    "kernelspec": {
      "name": "python3",
      "display_name": "Python 3"
    },
    "language_info": {
      "name": "python"
    }
  },
  "cells": [
    {
      "cell_type": "code",
      "source": [
        "!pip install openai --upgrade"
      ],
      "metadata": {
        "colab": {
          "base_uri": "https://localhost:8080/"
        },
        "id": "xvdbywUxle8n",
        "outputId": "6efa977e-bf93-4d3e-84a8-fdde6a8b6d63"
      },
      "execution_count": 31,
      "outputs": [
        {
          "output_type": "stream",
          "name": "stdout",
          "text": [
            "Requirement already satisfied: openai in /usr/local/lib/python3.10/dist-packages (1.3.0)\n",
            "Requirement already satisfied: anyio<4,>=3.5.0 in /usr/local/lib/python3.10/dist-packages (from openai) (3.7.1)\n",
            "Requirement already satisfied: distro<2,>=1.7.0 in /usr/lib/python3/dist-packages (from openai) (1.7.0)\n",
            "Requirement already satisfied: httpx<1,>=0.23.0 in /usr/local/lib/python3.10/dist-packages (from openai) (0.25.1)\n",
            "Requirement already satisfied: pydantic<3,>=1.9.0 in /usr/local/lib/python3.10/dist-packages (from openai) (1.10.13)\n",
            "Requirement already satisfied: tqdm>4 in /usr/local/lib/python3.10/dist-packages (from openai) (4.66.1)\n",
            "Requirement already satisfied: typing-extensions<5,>=4.5 in /usr/local/lib/python3.10/dist-packages (from openai) (4.5.0)\n",
            "Requirement already satisfied: idna>=2.8 in /usr/local/lib/python3.10/dist-packages (from anyio<4,>=3.5.0->openai) (3.4)\n",
            "Requirement already satisfied: sniffio>=1.1 in /usr/local/lib/python3.10/dist-packages (from anyio<4,>=3.5.0->openai) (1.3.0)\n",
            "Requirement already satisfied: exceptiongroup in /usr/local/lib/python3.10/dist-packages (from anyio<4,>=3.5.0->openai) (1.1.3)\n",
            "Requirement already satisfied: certifi in /usr/local/lib/python3.10/dist-packages (from httpx<1,>=0.23.0->openai) (2023.7.22)\n",
            "Requirement already satisfied: httpcore in /usr/local/lib/python3.10/dist-packages (from httpx<1,>=0.23.0->openai) (1.0.2)\n",
            "Requirement already satisfied: h11<0.15,>=0.13 in /usr/local/lib/python3.10/dist-packages (from httpcore->httpx<1,>=0.23.0->openai) (0.14.0)\n"
          ]
        }
      ]
    },
    {
      "cell_type": "code",
      "source": [
        "from openai import OpenAI\n",
        "import os\n",
        "import json\n",
        "import time\n",
        "\n",
        "os.environ[\"OPENAI_API_KEY\"] = \"openai-api-key\"\n",
        "\n",
        "def show_json(obj):\n",
        "  display(json.loads(obj.model_dump_json()))\n",
        "\n",
        "client = OpenAI()\n",
        "\n",
        "assistant = client.beta.assistants.create(\n",
        "    name = \"Expert programmer\",\n",
        "    instructions = \"You are an expert programmer. Answer questions using code.\",\n",
        "    model = \"gpt-4-1106-preview\",\n",
        "    tools = [{\"type\": \"code_interpreter\"}]\n",
        ")\n",
        "\n",
        "thread = client.beta.threads.create()\n",
        "\n",
        "message = client.beta.threads.messages.create(\n",
        "    thread_id = thread.id,\n",
        "    role = \"user\",\n",
        "    content = \"Generate the first 20 fibbonaci numbers.\"\n",
        ")\n",
        "\n",
        "run = client.beta.threads.runs.create(\n",
        "    thread_id = thread.id,\n",
        "    assistant_id = assistant.id\n",
        ")\n",
        "\n",
        "def wait_on_run(run, thread):\n",
        "  while run.status == \"queued\" or run.status == \"in_progress\" :\n",
        "    run = client.beta.threads.runs.retrieve(\n",
        "        thread_id = thread.id,\n",
        "        run_id = run.id\n",
        "    )\n",
        "    time.sleep(0.5)\n",
        "  return run"
      ],
      "metadata": {
        "id": "WQmw4MzFHGdr"
      },
      "execution_count": 7,
      "outputs": []
    },
    {
      "cell_type": "code",
      "source": [
        "run = wait_on_run(run, thread)\n",
        "messages = client.beta.threads.messages.list(thread_id=thread.id)\n",
        "show_json(messages)"
      ],
      "metadata": {
        "colab": {
          "base_uri": "https://localhost:8080/",
          "height": 528
        },
        "id": "d7Qa7c8WfLeD",
        "outputId": "029341eb-2a79-4dc4-fe4d-8b57d8dad2f3"
      },
      "execution_count": 8,
      "outputs": [
        {
          "output_type": "display_data",
          "data": {
            "text/plain": [
              "{'data': [{'id': 'msg_ETajka3m7R6IE9PRhpKRdAQj',\n",
              "   'assistant_id': 'asst_JFYMFG28B9BcwfYYud1siHcL',\n",
              "   'content': [{'text': {'annotations': [],\n",
              "      'value': 'The first 20 Fibonacci numbers are:\\n\\n0, 1, 1, 2, 3, 5, 8, 13, 21, 34, 55, 89, 144, 233, 377, 610, 987, 1597, 2584, 4181'},\n",
              "     'type': 'text'}],\n",
              "   'created_at': 1700144259,\n",
              "   'file_ids': [],\n",
              "   'metadata': {},\n",
              "   'object': 'thread.message',\n",
              "   'role': 'assistant',\n",
              "   'run_id': 'run_K9unmFGbX7RBGLHCa5CbP2rF',\n",
              "   'thread_id': 'thread_OYvb0v8tQUhgfFFeBfH8dlAl'},\n",
              "  {'id': 'msg_hOCMIjMJrJV4EkfVcVjDotUP',\n",
              "   'assistant_id': None,\n",
              "   'content': [{'text': {'annotations': [],\n",
              "      'value': 'Generate the first 20 fibbonaci numbers.'},\n",
              "     'type': 'text'}],\n",
              "   'created_at': 1700144248,\n",
              "   'file_ids': [],\n",
              "   'metadata': {},\n",
              "   'object': 'thread.message',\n",
              "   'role': 'user',\n",
              "   'run_id': None,\n",
              "   'thread_id': 'thread_OYvb0v8tQUhgfFFeBfH8dlAl'}],\n",
              " 'object': 'list',\n",
              " 'first_id': 'msg_ETajka3m7R6IE9PRhpKRdAQj',\n",
              " 'last_id': 'msg_hOCMIjMJrJV4EkfVcVjDotUP',\n",
              " 'has_more': False}"
            ]
          },
          "metadata": {}
        }
      ]
    },
    {
      "cell_type": "code",
      "source": [
        "messages = client.beta.threads.messages.list(thread_id=thread.id)\n",
        "show_json(messages)"
      ],
      "metadata": {
        "colab": {
          "base_uri": "https://localhost:8080/",
          "height": 528
        },
        "id": "Xjz9TRCKfa_B",
        "outputId": "c61ab60e-a811-4581-c08b-86d6727ad8a4"
      },
      "execution_count": 6,
      "outputs": [
        {
          "output_type": "display_data",
          "data": {
            "text/plain": [
              "{'data': [{'id': 'msg_Lv7t1UCfmroa1SNXQRuHHEVS',\n",
              "   'assistant_id': 'asst_hHrpsnsp5oKPR4gSfSvjJMt3',\n",
              "   'content': [{'text': {'annotations': [],\n",
              "      'value': 'The first 20 Fibonacci numbers are:\\n\\n0, 1, 1, 2, 3, 5, 8, 13, 21, 34, 55, 89, 144, 233, 377, 610, 987, 1597, 2584, 4181.'},\n",
              "     'type': 'text'}],\n",
              "   'created_at': 1700144182,\n",
              "   'file_ids': [],\n",
              "   'metadata': {},\n",
              "   'object': 'thread.message',\n",
              "   'role': 'assistant',\n",
              "   'run_id': 'run_6Hfv8USG8w7jbjkgf0PKyD8I',\n",
              "   'thread_id': 'thread_lvzuWO6OAmVZhvPpZtHMv5YR'},\n",
              "  {'id': 'msg_AQAzMJ9TU6lOZpJAh50i2dvT',\n",
              "   'assistant_id': None,\n",
              "   'content': [{'text': {'annotations': [],\n",
              "      'value': 'I need to generate a code to get the first 20 fibbonaci numbers.'},\n",
              "     'type': 'text'}],\n",
              "   'created_at': 1700144174,\n",
              "   'file_ids': [],\n",
              "   'metadata': {},\n",
              "   'object': 'thread.message',\n",
              "   'role': 'user',\n",
              "   'run_id': None,\n",
              "   'thread_id': 'thread_lvzuWO6OAmVZhvPpZtHMv5YR'}],\n",
              " 'object': 'list',\n",
              " 'first_id': 'msg_Lv7t1UCfmroa1SNXQRuHHEVS',\n",
              " 'last_id': 'msg_AQAzMJ9TU6lOZpJAh50i2dvT',\n",
              " 'has_more': False}"
            ]
          },
          "metadata": {}
        }
      ]
    },
    {
      "cell_type": "code",
      "source": [
        "from openai import OpenAI\n",
        "import os\n",
        "\n",
        "os.environ[\"OPENAI_API_KEY\"] = \"openai-api-key\""
      ],
      "metadata": {
        "id": "aQAhqVmtffOy"
      },
      "execution_count": 9,
      "outputs": []
    },
    {
      "cell_type": "code",
      "source": [
        "import json\n",
        "\n",
        "def show_json(obj):\n",
        "  display(json.loads(obj.model_dump_json()))"
      ],
      "metadata": {
        "id": "5Hjto2xUgkGa"
      },
      "execution_count": 10,
      "outputs": []
    },
    {
      "cell_type": "code",
      "source": [
        "client = OpenAI()\n",
        "\n",
        "assistant = client.beta.assistants.create(\n",
        "    name = \"Expert Programmer\",\n",
        "    instructions = \"You are an expert programmer. Use code to answer the given questions.\",\n",
        "    model = \"gpt-4-1106-preview\",\n",
        "    tools = [{\"type\": \"code_interpreter\"}]\n",
        ")\n",
        "\n",
        "assistant_id = assistant.id"
      ],
      "metadata": {
        "id": "5M3pwTXtgtxN"
      },
      "execution_count": 14,
      "outputs": []
    },
    {
      "cell_type": "code",
      "source": [
        "def submit_message(assistant_id, thread, user_message):\n",
        "  client.beta.threads.messages.create(\n",
        "      thread_id = thread.id,\n",
        "      role = \"user\",\n",
        "      content = user_message\n",
        "  )\n",
        "  return client.beta.threads.runs.create(\n",
        "      thread_id = thread.id,\n",
        "      assistant_id = assistant.id\n",
        "  )\n",
        "\n",
        "def get_response(thread):\n",
        "  return client.beta.threads.messages.list(\n",
        "      thread_id = thread.id,\n",
        "      order = \"asc\"\n",
        "  )\n",
        "\n",
        "def create_thread_and_run(user_input):\n",
        "  thread = client.beta.threads.create()\n",
        "  run = submit_message(assistant_id, thread, user_input)\n",
        "  return thread, run"
      ],
      "metadata": {
        "id": "vk4ewM0Mhk3p"
      },
      "execution_count": 25,
      "outputs": []
    },
    {
      "cell_type": "code",
      "source": [
        "thread1, run1 = create_thread_and_run(\n",
        "    \"Generate the first 20 fibbonaci numbers.\"\n",
        ")\n",
        "\n",
        "thread2, run2 = create_thread_and_run(\n",
        "    \"Can you provide a python code to generate the first 20 fibbonaci numbers?\"\n",
        ")"
      ],
      "metadata": {
        "id": "0ppNt5Fmi2AX"
      },
      "execution_count": 29,
      "outputs": []
    },
    {
      "cell_type": "code",
      "source": [
        "import time\n",
        "\n",
        "def wait_on_run(run, thread):\n",
        "  while run.status == \"in_progress\" or run.status == \"queued\" :\n",
        "    run = client.beta.threads.runs.retrieve(\n",
        "        thread_id = thread.id,\n",
        "        run_id = run.id\n",
        "    )\n",
        "    time.sleep(0.5)\n",
        "  return run\n",
        "\n",
        "def pretty_print(messages):\n",
        "  print(\"# Messages\")\n",
        "  for m in messages:\n",
        "    print(f\"{m.role}: {m.content[0].text.value}\")\n",
        "  print()"
      ],
      "metadata": {
        "id": "drk8cu4MjJso"
      },
      "execution_count": 20,
      "outputs": []
    },
    {
      "cell_type": "code",
      "source": [
        "# Wait for Run 1\n",
        "run1 = wait_on_run(run1, thread1)\n",
        "pretty_print(get_response(thread1))\n",
        "\n",
        "# Wait for Run 2\n",
        "run2 = wait_on_run(run2, thread2)\n",
        "pretty_print(get_response(thread2))"
      ],
      "metadata": {
        "colab": {
          "base_uri": "https://localhost:8080/"
        },
        "id": "u5ccBpCHkBbP",
        "outputId": "3a22ef0c-4cd7-4ed7-b77e-1a4a2d05371b"
      },
      "execution_count": 30,
      "outputs": [
        {
          "output_type": "stream",
          "name": "stdout",
          "text": [
            "# Messages\n",
            "user: Generate the first 20 fibbonaci numbers.\n",
            "assistant: The first 20 Fibonacci numbers are:\n",
            "\n",
            "0, 1, 1, 2, 3, 5, 8, 13, 21, 34, 55, 89, 144, 233, 377, 610, 987, 1597, 2584, 4181\n",
            "\n",
            "# Messages\n",
            "user: Can you provide a python code to generate the first 20 fibbonaci numbers?\n",
            "assistant: Here are the first 20 Fibonacci numbers:\n",
            "\n",
            "0, 1, 1, 2, 3, 5, 8, 13, 21, 34, 55, 89, 144, 233, 377, 610, 987, 1597, 2584, 4181\n",
            "\n"
          ]
        }
      ]
    },
    {
      "cell_type": "code",
      "source": [],
      "metadata": {
        "id": "aqz1BTZ1kY9H"
      },
      "execution_count": null,
      "outputs": []
    }
  ]
}